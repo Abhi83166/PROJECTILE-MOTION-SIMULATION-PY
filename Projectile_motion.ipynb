{
 "cells": [
  {
   "cell_type": "markdown",
   "metadata": {},
   "source": [
    "Projectile motion simulation with air resistance."
   ]
  },
  {
   "cell_type": "code",
   "execution_count": null,
   "metadata": {},
   "outputs": [],
   "source": [
    "import numpy as np\n",
    "import matplotlib.pyplot as plt\n",
    "import scipy as sp\n",
    "from scipy.integrate import minimize\n",
    "from scipy.integrate import solve_ivp"
   ]
  },
  {
   "cell_type": "markdown",
   "metadata": {},
   "source": [
    "dx/dt = v\n",
    "dy/dt = y\n",
    "dvx/dt = -Bsqrt(vx^2 + vy^2)Vx\n",
    "dvy/dt = - Bsqrt(vx^2 + vy^2)Vy\n",
    "    \n",
    "    where B is the air drag coefficient, V is the velocity, and Vx and Vy are the components of the velocity."
   ]
  },
  {
   "cell_type": "code",
   "execution_count": null,
   "metadata": {},
   "outputs": [],
   "source": [
    "def dSdt(t, S, B):\n",
    "    x, vx, y, vy = S\n",
    "    return [vx,\n",
    "    -B*np.sqrt(vx ** 2 + vy ** 2)*vx, vy, -1-B*np.sqrt(vx ** 2 + vy ** 2)*vy]\n"
   ]
  },
  {
   "cell_type": "code",
   "execution_count": null,
   "metadata": {},
   "outputs": [],
   "source": [
    "B = 1\n",
    "V = 1\n",
    "t1 = 40 *np.pi / 180\n",
    "t2 = 60 *np.pi / 180\n",
    "t3 = 80 *np.pi / 180"
   ]
  },
  {
   "cell_type": "code",
   "execution_count": null,
   "metadata": {},
   "outputs": [],
   "source": [
    "sol1 = solve_ivp(dSdt, [0, 2], y0=[0,V*np.cos(t1),0,V*np.sin(t1)], t_eval=np.linspace(0,2,1000), args=(B,)) # atol=1e-7, rtol=1e-4)\n",
    "sol2 = solve_ivp(dSdt, [0, 2], y0=[0,V*np.cos(t2),0,V*np.sin(t2)], t_eval=np.linspace(0,2,1000), args=(B,)) #atol=1e-7, rtol=1e-4)\n",
    "sol3 = solve_ivp(dSdt, [0, 2], y0=[0,V*np.cos(t3),0,V*np.sin(t3)], t_eval=np.linspace(0,2,1000), args=(B,)) #atol=1e-7, rtol=1e-4)"
   ]
  },
  {
   "cell_type": "code",
   "execution_count": null,
   "metadata": {},
   "outputs": [],
   "source": [
    "plt.plot(sol1.y[0],sol1.y[2], label=r'$\\theta_0=40^{\\circ}$')\n",
    "plt.plot(sol2.y[0],sol2.y[2], label=r'$\\theta_0=45^{\\circ}$')\n",
    "plt.plot(sol3.y[0],sol3.y[2], label=r'$\\theta_0=50^{\\circ}$')\n",
    "plt.ylim(bottom=0)\n",
    "plt.legend()\n",
    "plt.xlabel('$x/g$', fontsize=20)\n",
    "plt.ylabel('$y/g$', fontsize=20)\n",
    "plt.show()"
   ]
  }
 ],
 "metadata": {
  "kernelspec": {
   "display_name": "Python 3.9.7 ('base')",
   "language": "python",
   "name": "python3"
  },
  "language_info": {
   "name": "python",
   "version": "3.9.7"
  },
  "orig_nbformat": 4,
  "vscode": {
   "interpreter": {
    "hash": "19daf451ac1d185c780c3fc5d7cc23ef0fd58e58a8e1cc4d3b565ba5f464d298"
   }
  }
 },
 "nbformat": 4,
 "nbformat_minor": 2
}
